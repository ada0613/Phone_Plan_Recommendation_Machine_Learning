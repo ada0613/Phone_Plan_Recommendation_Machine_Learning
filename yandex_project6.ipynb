{
 "cells": [
  {
   "cell_type": "markdown",
   "metadata": {},
   "source": [
    "# Phone Plan Recommendation for Telecom Megaline\n",
    "Mobile carrier Megaline has found out that many of their subscribers use legacy plans. They want to develop a model that would analyze subscribers' behavior and recommend one of Megaline's newer plans: Smart or Ultra.\n",
    "\n",
    "You have access to behavior data about subscribers who have already switched to the new plans (from the project for the Statistical Data Analysis course). For this classification task, you need to develop a model that will pick the right plan. Since you’ve already performed the data preprocessing step, you can move straight to creating the model.\n",
    "\n",
    "Develop a model with the highest possible accuracy. In this project, the threshold for accuracy is 0.75. "
   ]
  },
  {
   "cell_type": "markdown",
   "metadata": {
    "tags": [],
    "toc": true
   },
   "source": [
    "<h1>Table of Contents<span class=\"tocSkip\"></span></h1>\n",
    "<div class=\"toc\"><ul class=\"toc-item\"><li><span><a href=\"#Open-the-data-file-and-study-the-general-information\" data-toc-modified-id=\"Open-the-data-file-and-study-the-general-information-1\"><span class=\"toc-item-num\">1&nbsp;&nbsp;</span>Open the data file and study the general information</a></span></li><li><span><a href=\"#Splitting-the-data\" data-toc-modified-id=\"Splitting-the-data-2\"><span class=\"toc-item-num\">2&nbsp;&nbsp;</span>Splitting the data</a></span></li><li><span><a href=\"#Machine-Learning-Models\" data-toc-modified-id=\"Machine-Learning-Models-3\"><span class=\"toc-item-num\">3&nbsp;&nbsp;</span>Machine Learning Models</a></span><ul class=\"toc-item\"><li><span><a href=\"#Decision-Tree-Classifier\" data-toc-modified-id=\"Decision-Tree-Classifier-3.1\"><span class=\"toc-item-num\">3.1&nbsp;&nbsp;</span>Decision Tree Classifier</a></span></li><li><span><a href=\"#Random-Forest-Classifier\" data-toc-modified-id=\"Random-Forest-Classifier-3.2\"><span class=\"toc-item-num\">3.2&nbsp;&nbsp;</span>Random Forest Classifier</a></span></li><li><span><a href=\"#K-Nearest-Neighbors-Classifier\" data-toc-modified-id=\"K-Nearest-Neighbors-Classifier-3.3\"><span class=\"toc-item-num\">3.3&nbsp;&nbsp;</span>K Nearest Neighbors Classifier</a></span></li><li><span><a href=\"#Comparison-of-Models\" data-toc-modified-id=\"Comparison-of-Models-3.4\"><span class=\"toc-item-num\">3.4&nbsp;&nbsp;</span>Comparison of Models</a></span></li><li><span><a href=\"#Conclusion\" data-toc-modified-id=\"Conclusion-3.5\"><span class=\"toc-item-num\">3.5&nbsp;&nbsp;</span>Conclusion</a></span></li></ul></li><li><span><a href=\"#Check-the-model-using-test-set\" data-toc-modified-id=\"Check-the-model-using-test-set-4\"><span class=\"toc-item-num\">4&nbsp;&nbsp;</span>Check the model using test set</a></span></li><li><span><a href=\"#Sanity-Check\" data-toc-modified-id=\"Sanity-Check-5\"><span class=\"toc-item-num\">5&nbsp;&nbsp;</span>Sanity Check</a></span></li><li><span><a href=\"#Overall-Conclusion\" data-toc-modified-id=\"Overall-Conclusion-6\"><span class=\"toc-item-num\">6&nbsp;&nbsp;</span>Overall Conclusion</a></span></li></ul></div>"
   ]
  },
  {
   "cell_type": "code",
   "execution_count": 1,
   "metadata": {},
   "outputs": [],
   "source": [
    "# import pandas\n",
    "import pandas as pd\n",
    "# import numpy\n",
    "import numpy as np\n",
    "# import matplot\n",
    "import matplotlib.pyplot as plt\n",
    "import seaborn as sns\n",
    "from sklearn.tree import DecisionTreeClassifier\n",
    "from sklearn.ensemble import RandomForestClassifier\n",
    "from sklearn.neighbors import KNeighborsClassifier\n",
    "from sklearn.model_selection import train_test_split\n",
    "from sklearn.metrics import accuracy_score\n",
    "# for sanity check\n",
    "from sklearn.dummy import DummyClassifier"
   ]
  },
  {
   "cell_type": "markdown",
   "metadata": {},
   "source": [
    "## Open the data file and study the general information"
   ]
  },
  {
   "cell_type": "code",
   "execution_count": 2,
   "metadata": {},
   "outputs": [
    {
     "name": "stdout",
     "output_type": "stream",
     "text": [
      "Read the data successfully. \n"
     ]
    }
   ],
   "source": [
    "# open dataset\n",
    "try: \n",
    "    df = pd.read_csv('/datasets/users_behavior.csv')\n",
    "except:\n",
    "    print('Somethong went wrong.')\n",
    "else:\n",
    "    print(\"Read the data successfully. \")"
   ]
  },
  {
   "cell_type": "code",
   "execution_count": 3,
   "metadata": {},
   "outputs": [
    {
     "data": {
      "text/html": [
       "<div>\n",
       "<style scoped>\n",
       "    .dataframe tbody tr th:only-of-type {\n",
       "        vertical-align: middle;\n",
       "    }\n",
       "\n",
       "    .dataframe tbody tr th {\n",
       "        vertical-align: top;\n",
       "    }\n",
       "\n",
       "    .dataframe thead th {\n",
       "        text-align: right;\n",
       "    }\n",
       "</style>\n",
       "<table border=\"1\" class=\"dataframe\">\n",
       "  <thead>\n",
       "    <tr style=\"text-align: right;\">\n",
       "      <th></th>\n",
       "      <th>calls</th>\n",
       "      <th>minutes</th>\n",
       "      <th>messages</th>\n",
       "      <th>mb_used</th>\n",
       "      <th>is_ultra</th>\n",
       "    </tr>\n",
       "  </thead>\n",
       "  <tbody>\n",
       "    <tr>\n",
       "      <td>0</td>\n",
       "      <td>40.0</td>\n",
       "      <td>311.90</td>\n",
       "      <td>83.0</td>\n",
       "      <td>19915.42</td>\n",
       "      <td>0</td>\n",
       "    </tr>\n",
       "    <tr>\n",
       "      <td>1</td>\n",
       "      <td>85.0</td>\n",
       "      <td>516.75</td>\n",
       "      <td>56.0</td>\n",
       "      <td>22696.96</td>\n",
       "      <td>0</td>\n",
       "    </tr>\n",
       "    <tr>\n",
       "      <td>2</td>\n",
       "      <td>77.0</td>\n",
       "      <td>467.66</td>\n",
       "      <td>86.0</td>\n",
       "      <td>21060.45</td>\n",
       "      <td>0</td>\n",
       "    </tr>\n",
       "    <tr>\n",
       "      <td>3</td>\n",
       "      <td>106.0</td>\n",
       "      <td>745.53</td>\n",
       "      <td>81.0</td>\n",
       "      <td>8437.39</td>\n",
       "      <td>1</td>\n",
       "    </tr>\n",
       "    <tr>\n",
       "      <td>4</td>\n",
       "      <td>66.0</td>\n",
       "      <td>418.74</td>\n",
       "      <td>1.0</td>\n",
       "      <td>14502.75</td>\n",
       "      <td>0</td>\n",
       "    </tr>\n",
       "  </tbody>\n",
       "</table>\n",
       "</div>"
      ],
      "text/plain": [
       "   calls  minutes  messages   mb_used  is_ultra\n",
       "0   40.0   311.90      83.0  19915.42         0\n",
       "1   85.0   516.75      56.0  22696.96         0\n",
       "2   77.0   467.66      86.0  21060.45         0\n",
       "3  106.0   745.53      81.0   8437.39         1\n",
       "4   66.0   418.74       1.0  14502.75         0"
      ]
     },
     "execution_count": 3,
     "metadata": {},
     "output_type": "execute_result"
    }
   ],
   "source": [
    "# check the first 5 rows of dataframe\n",
    "df.head()"
   ]
  },
  {
   "cell_type": "code",
   "execution_count": 4,
   "metadata": {},
   "outputs": [
    {
     "data": {
      "text/html": [
       "<div>\n",
       "<style scoped>\n",
       "    .dataframe tbody tr th:only-of-type {\n",
       "        vertical-align: middle;\n",
       "    }\n",
       "\n",
       "    .dataframe tbody tr th {\n",
       "        vertical-align: top;\n",
       "    }\n",
       "\n",
       "    .dataframe thead th {\n",
       "        text-align: right;\n",
       "    }\n",
       "</style>\n",
       "<table border=\"1\" class=\"dataframe\">\n",
       "  <thead>\n",
       "    <tr style=\"text-align: right;\">\n",
       "      <th></th>\n",
       "      <th>calls</th>\n",
       "      <th>minutes</th>\n",
       "      <th>messages</th>\n",
       "      <th>mb_used</th>\n",
       "      <th>is_ultra</th>\n",
       "    </tr>\n",
       "  </thead>\n",
       "  <tbody>\n",
       "    <tr>\n",
       "      <td>3209</td>\n",
       "      <td>122.0</td>\n",
       "      <td>910.98</td>\n",
       "      <td>20.0</td>\n",
       "      <td>35124.90</td>\n",
       "      <td>1</td>\n",
       "    </tr>\n",
       "    <tr>\n",
       "      <td>3210</td>\n",
       "      <td>25.0</td>\n",
       "      <td>190.36</td>\n",
       "      <td>0.0</td>\n",
       "      <td>3275.61</td>\n",
       "      <td>0</td>\n",
       "    </tr>\n",
       "    <tr>\n",
       "      <td>3211</td>\n",
       "      <td>97.0</td>\n",
       "      <td>634.44</td>\n",
       "      <td>70.0</td>\n",
       "      <td>13974.06</td>\n",
       "      <td>0</td>\n",
       "    </tr>\n",
       "    <tr>\n",
       "      <td>3212</td>\n",
       "      <td>64.0</td>\n",
       "      <td>462.32</td>\n",
       "      <td>90.0</td>\n",
       "      <td>31239.78</td>\n",
       "      <td>0</td>\n",
       "    </tr>\n",
       "    <tr>\n",
       "      <td>3213</td>\n",
       "      <td>80.0</td>\n",
       "      <td>566.09</td>\n",
       "      <td>6.0</td>\n",
       "      <td>29480.52</td>\n",
       "      <td>1</td>\n",
       "    </tr>\n",
       "  </tbody>\n",
       "</table>\n",
       "</div>"
      ],
      "text/plain": [
       "      calls  minutes  messages   mb_used  is_ultra\n",
       "3209  122.0   910.98      20.0  35124.90         1\n",
       "3210   25.0   190.36       0.0   3275.61         0\n",
       "3211   97.0   634.44      70.0  13974.06         0\n",
       "3212   64.0   462.32      90.0  31239.78         0\n",
       "3213   80.0   566.09       6.0  29480.52         1"
      ]
     },
     "execution_count": 4,
     "metadata": {},
     "output_type": "execute_result"
    }
   ],
   "source": [
    "# check the last 5 rows of dataframe\n",
    "df.tail()"
   ]
  },
  {
   "cell_type": "code",
   "execution_count": 5,
   "metadata": {},
   "outputs": [
    {
     "name": "stdout",
     "output_type": "stream",
     "text": [
      "<class 'pandas.core.frame.DataFrame'>\n",
      "RangeIndex: 3214 entries, 0 to 3213\n",
      "Data columns (total 5 columns):\n",
      "calls       3214 non-null float64\n",
      "minutes     3214 non-null float64\n",
      "messages    3214 non-null float64\n",
      "mb_used     3214 non-null float64\n",
      "is_ultra    3214 non-null int64\n",
      "dtypes: float64(4), int64(1)\n",
      "memory usage: 125.7 KB\n"
     ]
    }
   ],
   "source": [
    "# the information of dataframe\n",
    "df.info()"
   ]
  },
  {
   "cell_type": "code",
   "execution_count": 6,
   "metadata": {},
   "outputs": [
    {
     "data": {
      "text/html": [
       "<div>\n",
       "<style scoped>\n",
       "    .dataframe tbody tr th:only-of-type {\n",
       "        vertical-align: middle;\n",
       "    }\n",
       "\n",
       "    .dataframe tbody tr th {\n",
       "        vertical-align: top;\n",
       "    }\n",
       "\n",
       "    .dataframe thead th {\n",
       "        text-align: right;\n",
       "    }\n",
       "</style>\n",
       "<table border=\"1\" class=\"dataframe\">\n",
       "  <thead>\n",
       "    <tr style=\"text-align: right;\">\n",
       "      <th></th>\n",
       "      <th>calls</th>\n",
       "      <th>minutes</th>\n",
       "      <th>messages</th>\n",
       "      <th>mb_used</th>\n",
       "      <th>is_ultra</th>\n",
       "    </tr>\n",
       "  </thead>\n",
       "  <tbody>\n",
       "    <tr>\n",
       "      <td>count</td>\n",
       "      <td>3214.000000</td>\n",
       "      <td>3214.000000</td>\n",
       "      <td>3214.000000</td>\n",
       "      <td>3214.000000</td>\n",
       "      <td>3214.000000</td>\n",
       "    </tr>\n",
       "    <tr>\n",
       "      <td>mean</td>\n",
       "      <td>63.038892</td>\n",
       "      <td>438.208787</td>\n",
       "      <td>38.281269</td>\n",
       "      <td>17207.673836</td>\n",
       "      <td>0.306472</td>\n",
       "    </tr>\n",
       "    <tr>\n",
       "      <td>std</td>\n",
       "      <td>33.236368</td>\n",
       "      <td>234.569872</td>\n",
       "      <td>36.148326</td>\n",
       "      <td>7570.968246</td>\n",
       "      <td>0.461100</td>\n",
       "    </tr>\n",
       "    <tr>\n",
       "      <td>min</td>\n",
       "      <td>0.000000</td>\n",
       "      <td>0.000000</td>\n",
       "      <td>0.000000</td>\n",
       "      <td>0.000000</td>\n",
       "      <td>0.000000</td>\n",
       "    </tr>\n",
       "    <tr>\n",
       "      <td>25%</td>\n",
       "      <td>40.000000</td>\n",
       "      <td>274.575000</td>\n",
       "      <td>9.000000</td>\n",
       "      <td>12491.902500</td>\n",
       "      <td>0.000000</td>\n",
       "    </tr>\n",
       "    <tr>\n",
       "      <td>50%</td>\n",
       "      <td>62.000000</td>\n",
       "      <td>430.600000</td>\n",
       "      <td>30.000000</td>\n",
       "      <td>16943.235000</td>\n",
       "      <td>0.000000</td>\n",
       "    </tr>\n",
       "    <tr>\n",
       "      <td>75%</td>\n",
       "      <td>82.000000</td>\n",
       "      <td>571.927500</td>\n",
       "      <td>57.000000</td>\n",
       "      <td>21424.700000</td>\n",
       "      <td>1.000000</td>\n",
       "    </tr>\n",
       "    <tr>\n",
       "      <td>max</td>\n",
       "      <td>244.000000</td>\n",
       "      <td>1632.060000</td>\n",
       "      <td>224.000000</td>\n",
       "      <td>49745.730000</td>\n",
       "      <td>1.000000</td>\n",
       "    </tr>\n",
       "  </tbody>\n",
       "</table>\n",
       "</div>"
      ],
      "text/plain": [
       "             calls      minutes     messages       mb_used     is_ultra\n",
       "count  3214.000000  3214.000000  3214.000000   3214.000000  3214.000000\n",
       "mean     63.038892   438.208787    38.281269  17207.673836     0.306472\n",
       "std      33.236368   234.569872    36.148326   7570.968246     0.461100\n",
       "min       0.000000     0.000000     0.000000      0.000000     0.000000\n",
       "25%      40.000000   274.575000     9.000000  12491.902500     0.000000\n",
       "50%      62.000000   430.600000    30.000000  16943.235000     0.000000\n",
       "75%      82.000000   571.927500    57.000000  21424.700000     1.000000\n",
       "max     244.000000  1632.060000   224.000000  49745.730000     1.000000"
      ]
     },
     "execution_count": 6,
     "metadata": {},
     "output_type": "execute_result"
    }
   ],
   "source": [
    "# check the statistics of dataframe\n",
    "df.describe()"
   ]
  },
  {
   "cell_type": "code",
   "execution_count": 7,
   "metadata": {},
   "outputs": [
    {
     "data": {
      "text/plain": [
       "(3214, 5)"
      ]
     },
     "execution_count": 7,
     "metadata": {},
     "output_type": "execute_result"
    }
   ],
   "source": [
    "# check the number of columns and rows of dataframe\n",
    "df.shape"
   ]
  },
  {
   "cell_type": "markdown",
   "metadata": {},
   "source": [
    "There are 3214 rows and 5 columns."
   ]
  },
  {
   "cell_type": "code",
   "execution_count": 8,
   "metadata": {},
   "outputs": [
    {
     "data": {
      "text/plain": [
       "calls       0\n",
       "minutes     0\n",
       "messages    0\n",
       "mb_used     0\n",
       "is_ultra    0\n",
       "dtype: int64"
      ]
     },
     "execution_count": 8,
     "metadata": {},
     "output_type": "execute_result"
    }
   ],
   "source": [
    "# check for the missing values\n",
    "df.isnull().sum()"
   ]
  },
  {
   "cell_type": "markdown",
   "metadata": {},
   "source": [
    "We don't have missing values in our dataframe."
   ]
  },
  {
   "cell_type": "code",
   "execution_count": 9,
   "metadata": {},
   "outputs": [
    {
     "data": {
      "text/plain": [
       "0"
      ]
     },
     "execution_count": 9,
     "metadata": {},
     "output_type": "execute_result"
    }
   ],
   "source": [
    "# check for duplicates\n",
    "df.duplicated().sum()"
   ]
  },
  {
   "cell_type": "markdown",
   "metadata": {},
   "source": [
    "We don't have duplicate values in our dataframe. "
   ]
  },
  {
   "cell_type": "markdown",
   "metadata": {},
   "source": [
    "## Splitting the data"
   ]
  },
  {
   "cell_type": "markdown",
   "metadata": {},
   "source": [
    "We are going to split the srouce data into training set, validation set, and testing set. \n",
    "\n",
    "First, we split the data into training and testing, with 80% training and 20% testing"
   ]
  },
  {
   "cell_type": "code",
   "execution_count": 10,
   "metadata": {},
   "outputs": [],
   "source": [
    "df_train, df_test = train_test_split(df, test_size = 0.2, random_state = 12345)"
   ]
  },
  {
   "cell_type": "code",
   "execution_count": 11,
   "metadata": {},
   "outputs": [
    {
     "name": "stdout",
     "output_type": "stream",
     "text": [
      "Shape of training set is: (2571, 5)\n",
      "Shape of testing set is: (643, 5)\n"
     ]
    }
   ],
   "source": [
    "print('Shape of training set is:', df_train.shape)\n",
    "print('Shape of testing set is:', df_test.shape)"
   ]
  },
  {
   "cell_type": "markdown",
   "metadata": {},
   "source": [
    "Then, we split the training set into training and validation, with 80% training and 20% validation. "
   ]
  },
  {
   "cell_type": "code",
   "execution_count": 12,
   "metadata": {},
   "outputs": [],
   "source": [
    "df_train, df_valid = train_test_split(df_train, test_size = 0.2, random_state = 12345)"
   ]
  },
  {
   "cell_type": "code",
   "execution_count": 13,
   "metadata": {},
   "outputs": [
    {
     "name": "stdout",
     "output_type": "stream",
     "text": [
      "Shape of training set is: (2056, 5)\n",
      "Shape of validation set is: (515, 5)\n"
     ]
    }
   ],
   "source": [
    "print('Shape of training set is:', df_train.shape)\n",
    "print('Shape of validation set is:', df_valid.shape)"
   ]
  },
  {
   "cell_type": "code",
   "execution_count": 14,
   "metadata": {},
   "outputs": [],
   "source": [
    "# declare variables for features and target \n",
    "X = df.drop('is_ultra', axis=1)\n",
    "y = df['is_ultra']\n",
    "\n",
    "# training Sample\n",
    "X_train = df_train.drop('is_ultra', axis=1)\n",
    "y_train = df_train['is_ultra']\n",
    "\n",
    "# validation Sample\n",
    "X_valid = df_valid.drop('is_ultra', axis=1)\n",
    "y_valid = df_valid['is_ultra']\n",
    "\n",
    "# testing Sample\n",
    "X_test = df_test.drop('is_ultra', axis=1)\n",
    "y_test = df_test['is_ultra']"
   ]
  },
  {
   "cell_type": "code",
   "execution_count": 15,
   "metadata": {},
   "outputs": [
    {
     "name": "stdout",
     "output_type": "stream",
     "text": [
      "Training features: (2056, 4)\n",
      "Training target: (2056,)\n",
      "Validation features: (515, 4)\n",
      "Validation target: (515,)\n",
      "Testing features: (643, 4)\n",
      "Testing target: (643,)\n"
     ]
    }
   ],
   "source": [
    "print('Training features:', X_train.shape)\n",
    "print('Training target:', y_train.shape)\n",
    "print('Validation features:', X_valid.shape)\n",
    "print('Validation target:', y_valid.shape)\n",
    "print('Testing features:', X_test.shape)\n",
    "print('Testing target:', y_test.shape)"
   ]
  },
  {
   "cell_type": "markdown",
   "metadata": {},
   "source": [
    "## Machine Learning Models"
   ]
  },
  {
   "cell_type": "markdown",
   "metadata": {},
   "source": [
    "### Decision Tree Classifier"
   ]
  },
  {
   "cell_type": "code",
   "execution_count": 16,
   "metadata": {},
   "outputs": [
    {
     "name": "stdout",
     "output_type": "stream",
     "text": [
      "max_depth = 1  Training Accuracy: 0.761  Validation Accuracy 0.722\n",
      "max_depth = 2  Training Accuracy: 0.792  Validation Accuracy 0.748\n",
      "max_depth = 3  Training Accuracy: 0.811  Validation Accuracy 0.755\n",
      "max_depth = 4  Training Accuracy: 0.82  Validation Accuracy 0.753\n",
      "max_depth = 5  Training Accuracy: 0.828  Validation Accuracy 0.757\n",
      "max_depth = 6  Training Accuracy: 0.834  Validation Accuracy 0.761\n",
      "max_depth = 7  Training Accuracy: 0.852  Validation Accuracy 0.765\n",
      "max_depth = 8  Training Accuracy: 0.871  Validation Accuracy 0.763\n",
      "max_depth = 9  Training Accuracy: 0.881  Validation Accuracy 0.753\n",
      "max_depth = 10  Training Accuracy: 0.894  Validation Accuracy 0.759\n",
      "max_depth = 11  Training Accuracy: 0.906  Validation Accuracy 0.753\n",
      "max_depth = 12  Training Accuracy: 0.921  Validation Accuracy 0.75\n",
      "max_depth = 13  Training Accuracy: 0.934  Validation Accuracy 0.734\n",
      "max_depth = 14  Training Accuracy: 0.947  Validation Accuracy 0.734\n",
      "max_depth = 15  Training Accuracy: 0.956  Validation Accuracy 0.734\n",
      "max_depth = 16  Training Accuracy: 0.964  Validation Accuracy 0.728\n",
      "max_depth = 17  Training Accuracy: 0.971  Validation Accuracy 0.728\n",
      "max_depth = 18  Training Accuracy: 0.978  Validation Accuracy 0.718\n",
      "max_depth = 19  Training Accuracy: 0.986  Validation Accuracy 0.724\n"
     ]
    }
   ],
   "source": [
    "max_depth_list = [i for i in range(1, 20)]\n",
    "train_accuracy = [] # Log training accuracy scores for the model\n",
    "DTC_accuracy = [] # Log validation accuracy scores for the model\n",
    "\n",
    "for depth in max_depth_list:\n",
    "        model = DecisionTreeClassifier(max_depth = depth, random_state = 12345)\n",
    "        model.fit(X_train, y_train)\n",
    "        \n",
    "        predictions_train = model.predict(X_train)\n",
    "        train_score = accuracy_score(y_train, predictions_train)\n",
    "        train_accuracy.append(train_score)\n",
    "        \n",
    "        predictions_valid = model.predict(X_valid)\n",
    "        valid_score = accuracy_score(y_valid, predictions_valid)\n",
    "        DTC_accuracy.append(valid_score)\n",
    "\n",
    "        print(\"max_depth =\", depth, \" \", end = '')\n",
    "        print('Training Accuracy:', train_score.round(3), \" \", end = '')\n",
    "        print('Validation Accuracy', valid_score.round(3))"
   ]
  },
  {
   "cell_type": "code",
   "execution_count": 17,
   "metadata": {},
   "outputs": [
    {
     "data": {
      "image/png": "[encoded data removed]",
      "text/plain": [
       "<Figure size 720x360 with 1 Axes>"
      ]
     },
     "metadata": {
      "needs_background": "light"
     },
     "output_type": "display_data"
    }
   ],
   "source": [
    "plt.figure(figsize=(10,5))\n",
    "plt.plot(max_depth_list, train_accuracy, '-o', label = 'Training Accuracy Scores', alpha = 0.5)\n",
    "plt.plot(max_depth_list, DTC_accuracy, '-o', label = 'Validation Accuracy Scores', alpha = 0.5)\n",
    "plt.title('Plot of train and validation scores vs tree depth')\n",
    "plt.xlabel('Max depth')\n",
    "plt.ylabel('Accuracy')\n",
    "plt.legend()\n",
    "plt.show()"
   ]
  },
  {
   "cell_type": "markdown",
   "metadata": {},
   "source": [
    "We noticed at lower depth, the performance isn't very good but not overfitting. At higher depth, the performance is better but overfitting occurs. The accuracy score of validation sample is increasing until it reaches depth `7`. After depth `7`, the accuracy score of validation sample starting decreasing. So we choose the best Decision tree classifier model with `max_depth` = `7`.  "
   ]
  },
  {
   "cell_type": "markdown",
   "metadata": {},
   "source": [
    "### Random Forest Classifier"
   ]
  },
  {
   "cell_type": "code",
   "execution_count": 18,
   "metadata": {},
   "outputs": [
    {
     "name": "stdout",
     "output_type": "stream",
     "text": [
      "n_estimator = 1  Training Accuracy: 0.907  Validation Accuracy 0.722\n",
      "n_estimator = 2  Training Accuracy: 0.905  Validation Accuracy 0.74\n",
      "n_estimator = 3  Training Accuracy: 0.954  Validation Accuracy 0.744\n",
      "n_estimator = 4  Training Accuracy: 0.946  Validation Accuracy 0.753\n",
      "n_estimator = 5  Training Accuracy: 0.973  Validation Accuracy 0.74\n",
      "n_estimator = 6  Training Accuracy: 0.964  Validation Accuracy 0.755\n",
      "n_estimator = 7  Training Accuracy: 0.98  Validation Accuracy 0.755\n",
      "n_estimator = 8  Training Accuracy: 0.975  Validation Accuracy 0.767\n",
      "n_estimator = 9  Training Accuracy: 0.986  Validation Accuracy 0.771\n",
      "n_estimator = 10  Training Accuracy: 0.98  Validation Accuracy 0.765\n",
      "n_estimator = 11  Training Accuracy: 0.99  Validation Accuracy 0.771\n",
      "n_estimator = 12  Training Accuracy: 0.987  Validation Accuracy 0.767\n",
      "n_estimator = 13  Training Accuracy: 0.991  Validation Accuracy 0.773\n",
      "n_estimator = 14  Training Accuracy: 0.987  Validation Accuracy 0.767\n",
      "n_estimator = 15  Training Accuracy: 0.992  Validation Accuracy 0.769\n",
      "n_estimator = 16  Training Accuracy: 0.991  Validation Accuracy 0.769\n",
      "n_estimator = 17  Training Accuracy: 0.995  Validation Accuracy 0.773\n",
      "n_estimator = 18  Training Accuracy: 0.993  Validation Accuracy 0.763\n",
      "n_estimator = 19  Training Accuracy: 0.995  Validation Accuracy 0.773\n"
     ]
    }
   ],
   "source": [
    "estimator_list = [i for i in range(1, 20)]\n",
    "train_accuracy = [] # Log training accuracy scores for the model\n",
    "RFC_accuracy = [] # Log validation accuracy scores for the model\n",
    "\n",
    "for estimator in estimator_list:\n",
    "        model = RandomForestClassifier(random_state=12345,  n_estimators = estimator)\n",
    "        model.fit(X_train, y_train)\n",
    "        \n",
    "        predictions_train = model.predict(X_train)\n",
    "        train_score = accuracy_score(y_train, predictions_train)\n",
    "        train_accuracy.append(train_score)\n",
    "        \n",
    "        predictions_valid = model.predict(X_valid)\n",
    "        valid_score = accuracy_score(y_valid, predictions_valid)\n",
    "        RFC_accuracy.append(valid_score)\n",
    "\n",
    "        print(\"n_estimator =\", estimator, \" \", end = '')\n",
    "        print('Training Accuracy:', train_score.round(3), \" \", end = '')\n",
    "        print('Validation Accuracy', valid_score.round(3))"
   ]
  },
  {
   "cell_type": "code",
   "execution_count": 19,
   "metadata": {},
   "outputs": [
    {
     "data": {
      "image/png": "[encoded data removed]",
      "text/plain": [
       "<Figure size 720x360 with 1 Axes>"
      ]
     },
     "metadata": {
      "needs_background": "light"
     },
     "output_type": "display_data"
    }
   ],
   "source": [
    "plt.figure(figsize=(10,5))\n",
    "plt.plot(estimator_list, train_accuracy, '-o', label = 'Training Accuracy Scores', alpha = 0.5)\n",
    "plt.plot(estimator_list, RFC_accuracy, '-o', label = 'Validation Accuracy Scores', alpha = 0.5)\n",
    "plt.title('Plot of train and validation scores vs tree depth')\n",
    "plt.xlabel('Max depth')\n",
    "plt.ylabel('Accuracy')\n",
    "plt.legend()\n",
    "plt.show()"
   ]
  },
  {
   "cell_type": "markdown",
   "metadata": {},
   "source": [
    "The accuracy score of validation sample is increasing until it reaches n_estimator `11`. After n_estimators `11`, the accuracy score of validation sample starting decreasing. So we choose the best Random Forest classifier model with `n_estimator` = `11`."
   ]
  },
  {
   "cell_type": "markdown",
   "metadata": {},
   "source": [
    "### K Nearest Neighbors Classifier"
   ]
  },
  {
   "cell_type": "code",
   "execution_count": 20,
   "metadata": {},
   "outputs": [
    {
     "name": "stdout",
     "output_type": "stream",
     "text": [
      "n_neighbors = 1  Training Accuracy: 1.0  Validation Accuracy 0.674\n",
      "n_neighbors = 2  Training Accuracy: 0.85  Validation Accuracy 0.722\n",
      "n_neighbors = 3  Training Accuracy: 0.858  Validation Accuracy 0.724\n",
      "n_neighbors = 4  Training Accuracy: 0.814  Validation Accuracy 0.748\n",
      "n_neighbors = 5  Training Accuracy: 0.815  Validation Accuracy 0.742\n",
      "n_neighbors = 6  Training Accuracy: 0.801  Validation Accuracy 0.748\n",
      "n_neighbors = 7  Training Accuracy: 0.806  Validation Accuracy 0.751\n",
      "n_neighbors = 8  Training Accuracy: 0.795  Validation Accuracy 0.757\n",
      "n_neighbors = 9  Training Accuracy: 0.799  Validation Accuracy 0.753\n",
      "n_neighbors = 10  Training Accuracy: 0.789  Validation Accuracy 0.761\n",
      "n_neighbors = 11  Training Accuracy: 0.791  Validation Accuracy 0.755\n",
      "n_neighbors = 12  Training Accuracy: 0.782  Validation Accuracy 0.759\n",
      "n_neighbors = 13  Training Accuracy: 0.787  Validation Accuracy 0.759\n",
      "n_neighbors = 14  Training Accuracy: 0.784  Validation Accuracy 0.75\n",
      "n_neighbors = 15  Training Accuracy: 0.785  Validation Accuracy 0.753\n",
      "n_neighbors = 16  Training Accuracy: 0.776  Validation Accuracy 0.744\n",
      "n_neighbors = 17  Training Accuracy: 0.779  Validation Accuracy 0.74\n",
      "n_neighbors = 18  Training Accuracy: 0.77  Validation Accuracy 0.738\n",
      "n_neighbors = 19  Training Accuracy: 0.773  Validation Accuracy 0.74\n"
     ]
    }
   ],
   "source": [
    "neighbor_list = [i for i in range(1, 20)]\n",
    "train_accuracy = [] # Log training accuracy scores for the model\n",
    "KNN_accuracy = [] # Log validation accuracy scores for the model\n",
    "\n",
    "for neighbor in neighbor_list:\n",
    "        model = KNeighborsClassifier(n_neighbors = neighbor)\n",
    "        model.fit(X_train, y_train)\n",
    "        \n",
    "        predictions_train = model.predict(X_train)\n",
    "        train_score = accuracy_score(y_train, predictions_train)\n",
    "        train_accuracy.append(train_score)\n",
    "        \n",
    "        predictions_valid = model.predict(X_valid)\n",
    "        valid_score = accuracy_score(y_valid, predictions_valid)\n",
    "        KNN_accuracy.append(valid_score)\n",
    "\n",
    "        print(\"n_neighbors =\", neighbor, \" \", end = '')\n",
    "        print('Training Accuracy:', train_score.round(3), \" \", end = '')\n",
    "        print('Validation Accuracy', valid_score.round(3))"
   ]
  },
  {
   "cell_type": "code",
   "execution_count": 21,
   "metadata": {
    "scrolled": true
   },
   "outputs": [
    {
     "data": {
      "image/png": "[encoded data removed]",
      "text/plain": [
       "<Figure size 720x360 with 1 Axes>"
      ]
     },
     "metadata": {
      "needs_background": "light"
     },
     "output_type": "display_data"
    }
   ],
   "source": [
    "plt.figure(figsize=(10,5))\n",
    "plt.plot(neighbor_list, train_accuracy, '-o', label = 'Training Accuracy Scores', alpha = 0.5)\n",
    "plt.plot(neighbor_list, KNN_accuracy, '-o', label = 'Validation Accuracy Scores', alpha = 0.5)\n",
    "plt.title('Plot of train and validation scores vs tree depth')\n",
    "plt.xlabel('Max depth')\n",
    "plt.ylabel('Accuracy')\n",
    "plt.legend()\n",
    "plt.show()"
   ]
  },
  {
   "cell_type": "markdown",
   "metadata": {},
   "source": [
    "We noticed when K = 1, the training accuracy = 1.  This is because the closest point to any training data point is itself. Hence it'll always overfit. The accuracy score of validation sample is increasing until it reaches `n_neighbors` `10`. After `n_neighbors` `10`, the accuracy score of validation sample starting decreasing. So we choose the best Random Forest classifier model with `n_neighbors` = `10`."
   ]
  },
  {
   "cell_type": "markdown",
   "metadata": {},
   "source": [
    "### Comparison of Models"
   ]
  },
  {
   "cell_type": "code",
   "execution_count": 22,
   "metadata": {},
   "outputs": [],
   "source": [
    "# create a dataframe with the accuracy scores of different models\n",
    "models = pd.DataFrame(columns = ['Decision Tree Classifier', 'Random Forest Classifier', 'K Nearest Neighbors Classifier'])\n",
    "models['Decision Tree Classifier'] = DTC_accuracy\n",
    "models['Random Forest Classifier'] = RFC_accuracy\n",
    "models['K Nearest Neighbors Classifier'] = KNN_accuracy"
   ]
  },
  {
   "cell_type": "code",
   "execution_count": 23,
   "metadata": {},
   "outputs": [
    {
     "data": {
      "image/png": "[encoded data removed]",
      "text/plain": [
       "<Figure size 720x360 with 1 Axes>"
      ]
     },
     "metadata": {
      "needs_background": "light"
     },
     "output_type": "display_data"
    }
   ],
   "source": [
    "plt.figure(figsize=(10,5))\n",
    "plt.title('Comparison of Models', fontsize=15)\n",
    "plt.xlabel('')\n",
    "plt.ylabel('Accuracy')\n",
    "sns.lineplot(data = models)\n",
    "plt.show()"
   ]
  },
  {
   "cell_type": "markdown",
   "metadata": {},
   "source": [
    "### Conclusion\n",
    "* The best Decision Tree Classifier is at depth 7 with Validation Accuracy 0.765 \n",
    "* The best Random Forest Classifier is at n_estimator 11 with Validation Accuracy **0.771**\n",
    "* The best K Nearest Neighbors Classifier is at n_neighbors 10 with Validation Accuracy 0.761"
   ]
  },
  {
   "cell_type": "markdown",
   "metadata": {},
   "source": [
    "## Check the model using test set"
   ]
  },
  {
   "cell_type": "markdown",
   "metadata": {},
   "source": [
    "The Random Forest Classifier has the highest accuracy score 0.771 at n_estimator 11. Let's check the model using test set first"
   ]
  },
  {
   "cell_type": "code",
   "execution_count": 24,
   "metadata": {},
   "outputs": [
    {
     "name": "stdout",
     "output_type": "stream",
     "text": [
      "Accuracy: 0.771\n"
     ]
    }
   ],
   "source": [
    "RFC = RandomForestClassifier(random_state = 12345, n_estimators = 11)\n",
    "RFC.fit(X_train, y_train)\n",
    "y_pred = RFC.predict(X_test)\n",
    "test_score = accuracy_score(y_test, y_pred)\n",
    "print('Accuracy:', test_score.round(3))"
   ]
  },
  {
   "cell_type": "code",
   "execution_count": 25,
   "metadata": {},
   "outputs": [
    {
     "name": "stdout",
     "output_type": "stream",
     "text": [
      "Accuracy: 0.792\n"
     ]
    }
   ],
   "source": [
    "# check Decision Tree model with test set\n",
    "DTC = DecisionTreeClassifier(random_state = 12345, max_depth = 7)\n",
    "DTC.fit(X_train, y_train)\n",
    "y_pred = DTC.predict(X_test)\n",
    "test_score = accuracy_score(y_test, y_pred)\n",
    "print('Accuracy:', test_score.round(3))"
   ]
  },
  {
   "cell_type": "code",
   "execution_count": 26,
   "metadata": {},
   "outputs": [
    {
     "name": "stdout",
     "output_type": "stream",
     "text": [
      "Accuracy: 0.767\n"
     ]
    }
   ],
   "source": [
    "# check K Nearest Neighbors model with test set\n",
    "KNN = KNeighborsClassifier(n_neighbors = 10)\n",
    "KNN.fit(X_train, y_train)\n",
    "y_pred = KNN.predict(X_test)\n",
    "test_score = accuracy_score(y_test, y_pred)\n",
    "print('Accuracy:', test_score.round(3))"
   ]
  },
  {
   "cell_type": "markdown",
   "metadata": {},
   "source": [
    "The accuracy score on Random Forest Classifier is 0.771.\n",
    "\n",
    "The accuracy score on Decision Tree Classifier is 0.792.\n",
    "\n",
    "The accuracy score on K Nearest Neighbor Classifier is 0.767."
   ]
  },
  {
   "cell_type": "markdown",
   "metadata": {},
   "source": [
    "## Sanity Check"
   ]
  },
  {
   "cell_type": "code",
   "execution_count": 90,
   "metadata": {},
   "outputs": [
    {
     "data": {
      "text/plain": [
       "[0.5863141524105754,\n",
       " 0.6951788491446346,\n",
       " 0.6951788491446346,\n",
       " 0.5163297045101088,\n",
       " 0.5163297045101088]"
      ]
     },
     "execution_count": 90,
     "metadata": {},
     "output_type": "execute_result"
    }
   ],
   "source": [
    "# using dummy classifier for our sanity check\n",
    "strategies = ['stratified', 'most_frequent', 'prior', 'uniform', 'constant']\n",
    "test_scores = []\n",
    "for s in strategies:\n",
    "    if s == 'constant':\n",
    "        dummy_clf = DummyClassifier(strategy = s, random_state = 0, constant ='M')\n",
    "    else: \n",
    "        dummy_clf = DummyClassifier(strategy = s,  random_state = 0)\n",
    "        dummy_clf.fit(X_train, y_train)\n",
    "        score = dummy_clf.score(X_test, y_test)\n",
    "    test_scores.append(score)\n",
    "test_scores"
   ]
  },
  {
   "cell_type": "code",
   "execution_count": 91,
   "metadata": {},
   "outputs": [
    {
     "data": {
      "image/png": "[encoded data removed]",
      "text/plain": [
       "<Figure size 432x288 with 1 Axes>"
      ]
     },
     "metadata": {
      "needs_background": "light"
     },
     "output_type": "display_data"
    }
   ],
   "source": [
    "ax = sns.stripplot(strategies, test_scores);\n",
    "ax.set(xlabel ='Strategy', ylabel ='Test Score')\n",
    "plt.show()"
   ]
  },
  {
   "cell_type": "markdown",
   "metadata": {},
   "source": [
    "Comparing the scores of Decision Tree Classifier, Random Forest Classifier, and K Nearest Neighbor Classifiers with dummy classifier, we come to the conclusion that the the model we chose, in fact, are good classifiers for the given data."
   ]
  },
  {
   "cell_type": "markdown",
   "metadata": {},
   "source": [
    "## Overall Conclusion"
   ]
  },
  {
   "cell_type": "markdown",
   "metadata": {},
   "source": [
    "We used three models: Decision Tree Classifier, Random Forest Classifier  and K Nearest Neighbor Classifier.\n",
    "* The best Decision Tree Classifier is at depth 7 with Validation Accuracy 0.765 \n",
    "* The best Random Forest Classifier is at n_estimator 11 with Validation Accuracy 0.771\n",
    "* The best K Nearest Neighbors Classifier is at n_neighbors 10 with Validation Accuracy 0.761\n",
    "* The best model is Random Forest Classifier with n_estimator 11 that have 0.771 on training set and 0.792 on testing set. \n",
    "\n",
    "Comparing the scores of our models with dummy classifier, the accuracy scores of our models are all higher than the test scores of dummy classifier generated from different strategies. We can conclude that the models we had are good classifiers for the given data. "
   ]
  },
  {
   "cell_type": "code",
   "execution_count": null,
   "metadata": {},
   "outputs": [],
   "source": []
  }
 ],
 "metadata": {
  "ExecuteTimeLog": [
   {
    "duration": 1689,
    "start_time": "2021-08-28T17:59:13.983Z"
   },
   {
    "duration": 212,
    "start_time": "2021-08-28T18:00:22.105Z"
   },
   {
    "duration": 203,
    "start_time": "2021-08-28T18:00:39.682Z"
   },
   {
    "duration": 167,
    "start_time": "2021-08-28T18:00:56.355Z"
   },
   {
    "duration": 2054,
    "start_time": "2021-08-28T18:01:08.118Z"
   },
   {
    "duration": 1954,
    "start_time": "2021-08-28T18:01:17.951Z"
   },
   {
    "duration": 5,
    "start_time": "2021-08-28T18:02:02.032Z"
   },
   {
    "duration": 88,
    "start_time": "2021-08-28T18:02:04.027Z"
   },
   {
    "duration": 86,
    "start_time": "2021-08-28T18:02:12.575Z"
   },
   {
    "duration": 207,
    "start_time": "2021-08-28T18:02:21.677Z"
   },
   {
    "duration": 29,
    "start_time": "2021-08-28T18:02:54.192Z"
   },
   {
    "duration": 16,
    "start_time": "2021-08-28T18:03:43.681Z"
   },
   {
    "duration": 13,
    "start_time": "2021-08-28T18:04:03.801Z"
   },
   {
    "duration": 10,
    "start_time": "2021-08-28T18:04:20.222Z"
   },
   {
    "duration": 35,
    "start_time": "2021-08-28T18:05:43.675Z"
   },
   {
    "duration": 5,
    "start_time": "2021-08-28T18:06:24.342Z"
   },
   {
    "duration": 10,
    "start_time": "2021-08-28T18:06:51.607Z"
   },
   {
    "duration": 11,
    "start_time": "2021-08-28T18:07:11.431Z"
   },
   {
    "duration": 8,
    "start_time": "2021-08-28T18:12:12.571Z"
   },
   {
    "duration": 9,
    "start_time": "2021-08-28T18:12:59.665Z"
   },
   {
    "duration": 269,
    "start_time": "2021-08-28T18:13:14.080Z"
   },
   {
    "duration": 5,
    "start_time": "2021-08-28T18:13:21.185Z"
   },
   {
    "duration": 5,
    "start_time": "2021-08-28T18:13:26.042Z"
   },
   {
    "duration": 7,
    "start_time": "2021-08-28T18:14:59.686Z"
   },
   {
    "duration": 7,
    "start_time": "2021-08-28T18:15:23.351Z"
   },
   {
    "duration": 14,
    "start_time": "2021-08-28T18:22:04.657Z"
   },
   {
    "duration": 10,
    "start_time": "2021-08-28T18:22:36.114Z"
   },
   {
    "duration": 5,
    "start_time": "2021-08-28T18:22:57.062Z"
   },
   {
    "duration": 271,
    "start_time": "2021-08-28T18:25:01.311Z"
   },
   {
    "duration": 7,
    "start_time": "2021-08-28T18:25:07.917Z"
   },
   {
    "duration": 272,
    "start_time": "2021-08-28T18:31:53.432Z"
   },
   {
    "duration": 82,
    "start_time": "2021-08-28T18:32:52.946Z"
   },
   {
    "duration": 82,
    "start_time": "2021-08-28T18:34:21.672Z"
   },
   {
    "duration": 78,
    "start_time": "2021-08-28T18:34:25.866Z"
   },
   {
    "duration": 82,
    "start_time": "2021-08-28T18:34:52.841Z"
   },
   {
    "duration": 84,
    "start_time": "2021-08-28T18:34:59.937Z"
   },
   {
    "duration": 126,
    "start_time": "2021-08-28T18:39:48.390Z"
   },
   {
    "duration": 80,
    "start_time": "2021-08-28T18:40:07.581Z"
   },
   {
    "duration": 281,
    "start_time": "2021-08-28T18:46:30.669Z"
   },
   {
    "duration": 95,
    "start_time": "2021-08-28T18:46:48.508Z"
   },
   {
    "duration": 268,
    "start_time": "2021-08-28T18:47:38.210Z"
   },
   {
    "duration": 285,
    "start_time": "2021-08-28T18:47:42.509Z"
   },
   {
    "duration": 98,
    "start_time": "2021-08-28T18:48:02.868Z"
   },
   {
    "duration": 548,
    "start_time": "2021-08-28T18:48:06.043Z"
   },
   {
    "duration": 91,
    "start_time": "2021-08-28T18:48:23.715Z"
   },
   {
    "duration": 86,
    "start_time": "2021-08-28T18:48:34.573Z"
   },
   {
    "duration": 101,
    "start_time": "2021-08-28T18:48:46.239Z"
   },
   {
    "duration": 541,
    "start_time": "2021-08-28T18:48:48.789Z"
   },
   {
    "duration": 92,
    "start_time": "2021-08-28T18:49:23.902Z"
   },
   {
    "duration": 536,
    "start_time": "2021-08-28T18:49:24.352Z"
   },
   {
    "duration": 102,
    "start_time": "2021-08-28T18:52:14.597Z"
   },
   {
    "duration": 100,
    "start_time": "2021-08-28T18:52:21.305Z"
   },
   {
    "duration": 94,
    "start_time": "2021-08-28T18:52:27.706Z"
   },
   {
    "duration": 95,
    "start_time": "2021-08-28T18:52:38.879Z"
   },
   {
    "duration": 386,
    "start_time": "2021-08-28T18:54:01.951Z"
   },
   {
    "duration": 388,
    "start_time": "2021-08-28T18:54:33.115Z"
   },
   {
    "duration": 474,
    "start_time": "2021-08-28T18:54:41.396Z"
   },
   {
    "duration": 398,
    "start_time": "2021-08-28T18:55:05.336Z"
   },
   {
    "duration": 185,
    "start_time": "2021-08-28T19:06:58.984Z"
   },
   {
    "duration": 367,
    "start_time": "2021-08-28T19:07:00.905Z"
   },
   {
    "duration": 349,
    "start_time": "2021-08-28T19:09:10.180Z"
   },
   {
    "duration": 351,
    "start_time": "2021-08-28T19:09:18.343Z"
   },
   {
    "duration": 755,
    "start_time": "2021-08-28T19:20:43.129Z"
   },
   {
    "duration": 352,
    "start_time": "2021-08-28T19:21:37.772Z"
   },
   {
    "duration": 743,
    "start_time": "2021-08-28T19:24:04.651Z"
   },
   {
    "duration": 772,
    "start_time": "2021-08-28T19:32:51.220Z"
   },
   {
    "duration": 1834,
    "start_time": "2021-08-28T19:33:49.287Z"
   },
   {
    "duration": 366,
    "start_time": "2021-08-28T19:36:46.654Z"
   },
   {
    "duration": 1720,
    "start_time": "2021-08-28T19:44:56.892Z"
   },
   {
    "duration": 397,
    "start_time": "2021-08-28T19:44:58.615Z"
   },
   {
    "duration": 1775,
    "start_time": "2021-08-28T19:45:06.726Z"
   },
   {
    "duration": 339,
    "start_time": "2021-08-28T19:45:09.978Z"
   },
   {
    "duration": 2359,
    "start_time": "2021-08-28T19:45:40.148Z"
   },
   {
    "duration": 364,
    "start_time": "2021-08-28T19:45:44.807Z"
   },
   {
    "duration": 170,
    "start_time": "2021-08-28T19:47:58.692Z"
   },
   {
    "duration": 347,
    "start_time": "2021-08-28T19:48:00.707Z"
   },
   {
    "duration": 812,
    "start_time": "2021-08-28T19:48:28.320Z"
   },
   {
    "duration": 339,
    "start_time": "2021-08-28T19:48:37.743Z"
   },
   {
    "duration": 2339,
    "start_time": "2021-08-28T19:49:40.980Z"
   },
   {
    "duration": 342,
    "start_time": "2021-08-28T19:49:47.616Z"
   },
   {
    "duration": 8,
    "start_time": "2021-08-28T19:53:42.116Z"
   },
   {
    "duration": 286,
    "start_time": "2021-08-28T19:54:32.026Z"
   },
   {
    "duration": 255,
    "start_time": "2021-08-28T19:54:55.851Z"
   },
   {
    "duration": 341,
    "start_time": "2021-08-28T19:54:58.705Z"
   },
   {
    "duration": 1285,
    "start_time": "2021-08-28T19:55:12.456Z"
   },
   {
    "duration": 334,
    "start_time": "2021-08-28T19:55:16.468Z"
   },
   {
    "duration": 2360,
    "start_time": "2021-08-28T19:56:44.608Z"
   },
   {
    "duration": 362,
    "start_time": "2021-08-28T19:56:54.199Z"
   },
   {
    "duration": 10,
    "start_time": "2021-08-28T19:56:58.663Z"
   },
   {
    "duration": 283,
    "start_time": "2021-08-28T20:00:15.024Z"
   },
   {
    "duration": 589,
    "start_time": "2021-08-28T20:00:19.232Z"
   },
   {
    "duration": 526,
    "start_time": "2021-08-28T20:00:26.276Z"
   },
   {
    "duration": 82,
    "start_time": "2021-08-28T20:00:44.706Z"
   },
   {
    "duration": 485,
    "start_time": "2021-08-28T20:00:50.493Z"
   },
   {
    "duration": 484,
    "start_time": "2021-08-28T20:01:13.994Z"
   },
   {
    "duration": 95,
    "start_time": "2021-08-28T20:10:54.209Z"
   },
   {
    "duration": 15,
    "start_time": "2021-08-28T20:13:19.651Z"
   },
   {
    "duration": 45,
    "start_time": "2021-08-28T20:14:41.026Z"
   },
   {
    "duration": 111,
    "start_time": "2021-08-28T20:15:50.840Z"
   },
   {
    "duration": 69,
    "start_time": "2021-08-28T20:15:56.274Z"
   },
   {
    "duration": 68,
    "start_time": "2021-08-28T20:18:27.374Z"
   },
   {
    "duration": 15,
    "start_time": "2021-08-28T20:18:28.086Z"
   },
   {
    "duration": 50,
    "start_time": "2021-08-28T20:18:28.806Z"
   },
   {
    "duration": 70,
    "start_time": "2021-08-28T20:18:37.315Z"
   },
   {
    "duration": 15,
    "start_time": "2021-08-28T20:18:38.725Z"
   },
   {
    "duration": 158,
    "start_time": "2021-08-28T20:19:19.090Z"
   },
   {
    "duration": 15,
    "start_time": "2021-08-28T20:19:20.871Z"
   },
   {
    "duration": 74,
    "start_time": "2021-08-28T20:19:27.472Z"
   },
   {
    "duration": 16,
    "start_time": "2021-08-28T20:19:28.590Z"
   },
   {
    "duration": 39,
    "start_time": "2021-08-28T20:19:29.561Z"
   },
   {
    "duration": 52,
    "start_time": "2021-08-28T20:19:36.077Z"
   },
   {
    "duration": 17,
    "start_time": "2021-08-28T20:19:39.073Z"
   },
   {
    "duration": 71,
    "start_time": "2021-08-28T20:19:40.997Z"
   },
   {
    "duration": 79,
    "start_time": "2021-08-28T20:19:54.099Z"
   },
   {
    "duration": 17,
    "start_time": "2021-08-28T20:19:54.789Z"
   },
   {
    "duration": 48,
    "start_time": "2021-08-28T20:19:55.518Z"
   },
   {
    "duration": 73,
    "start_time": "2021-08-28T20:20:25.695Z"
   },
   {
    "duration": 16,
    "start_time": "2021-08-28T20:20:33.117Z"
   },
   {
    "duration": 40,
    "start_time": "2021-08-28T20:20:33.884Z"
   },
   {
    "duration": 1595,
    "start_time": "2021-08-29T01:46:40.246Z"
   },
   {
    "duration": 1576,
    "start_time": "2021-08-29T01:46:47.853Z"
   },
   {
    "duration": 25,
    "start_time": "2021-08-29T01:46:49.432Z"
   },
   {
    "duration": 17,
    "start_time": "2021-08-29T01:46:49.460Z"
   },
   {
    "duration": 13,
    "start_time": "2021-08-29T01:46:49.479Z"
   },
   {
    "duration": 29,
    "start_time": "2021-08-29T01:46:49.494Z"
   },
   {
    "duration": 42,
    "start_time": "2021-08-29T01:46:49.526Z"
   },
   {
    "duration": 6,
    "start_time": "2021-08-29T01:46:49.570Z"
   },
   {
    "duration": 43,
    "start_time": "2021-08-29T01:46:49.580Z"
   },
   {
    "duration": 10,
    "start_time": "2021-08-29T01:46:49.628Z"
   },
   {
    "duration": 7,
    "start_time": "2021-08-29T01:46:49.640Z"
   },
   {
    "duration": 7,
    "start_time": "2021-08-29T01:46:49.649Z"
   },
   {
    "duration": 8,
    "start_time": "2021-08-29T01:46:49.658Z"
   },
   {
    "duration": 52,
    "start_time": "2021-08-29T01:46:49.668Z"
   },
   {
    "duration": 11,
    "start_time": "2021-08-29T01:46:49.722Z"
   },
   {
    "duration": 14,
    "start_time": "2021-08-29T01:46:49.736Z"
   },
   {
    "duration": 323,
    "start_time": "2021-08-29T01:46:49.753Z"
   },
   {
    "duration": 408,
    "start_time": "2021-08-29T01:46:50.079Z"
   },
   {
    "duration": 1418,
    "start_time": "2021-08-29T01:46:50.489Z"
   },
   {
    "duration": 403,
    "start_time": "2021-08-29T01:46:51.909Z"
   },
   {
    "duration": 2764,
    "start_time": "2021-08-29T01:46:52.314Z"
   },
   {
    "duration": 400,
    "start_time": "2021-08-29T01:46:55.080Z"
   },
   {
    "duration": 12,
    "start_time": "2021-08-29T01:46:55.483Z"
   },
   {
    "duration": 544,
    "start_time": "2021-08-29T01:46:55.521Z"
   },
   {
    "duration": 94,
    "start_time": "2021-08-29T01:46:56.068Z"
   },
   {
    "duration": 15,
    "start_time": "2021-08-29T01:46:56.164Z"
   },
   {
    "duration": 61,
    "start_time": "2021-08-29T01:46:56.181Z"
   },
   {
    "duration": 8,
    "start_time": "2021-08-29T01:57:06.329Z"
   },
   {
    "duration": 8,
    "start_time": "2021-08-29T01:57:16.648Z"
   },
   {
    "duration": 12,
    "start_time": "2021-08-29T01:57:24.330Z"
   },
   {
    "duration": 8,
    "start_time": "2021-08-29T01:57:47.173Z"
   },
   {
    "duration": 8,
    "start_time": "2021-08-29T01:57:55.115Z"
   },
   {
    "duration": 9,
    "start_time": "2021-08-29T02:01:06.534Z"
   },
   {
    "duration": 565,
    "start_time": "2021-08-29T02:01:57.965Z"
   },
   {
    "duration": 16,
    "start_time": "2021-08-29T02:02:13.138Z"
   },
   {
    "duration": 548,
    "start_time": "2021-08-29T02:04:21.335Z"
   },
   {
    "duration": 395,
    "start_time": "2021-08-29T02:05:22.859Z"
   },
   {
    "duration": 11,
    "start_time": "2021-08-29T02:05:28.309Z"
   },
   {
    "duration": 422,
    "start_time": "2021-08-29T02:05:49.768Z"
   },
   {
    "duration": 11,
    "start_time": "2021-08-29T02:06:06.044Z"
   },
   {
    "duration": 11,
    "start_time": "2021-08-29T02:06:24.187Z"
   },
   {
    "duration": 10,
    "start_time": "2021-08-29T02:06:47.190Z"
   },
   {
    "duration": 411,
    "start_time": "2021-08-29T02:06:51.992Z"
   },
   {
    "duration": 9,
    "start_time": "2021-08-29T02:07:47.727Z"
   },
   {
    "duration": 409,
    "start_time": "2021-08-29T02:07:49.699Z"
   },
   {
    "duration": 10,
    "start_time": "2021-08-29T02:11:05.266Z"
   },
   {
    "duration": 386,
    "start_time": "2021-08-29T02:11:07.662Z"
   },
   {
    "duration": 387,
    "start_time": "2021-08-29T02:11:18.977Z"
   },
   {
    "duration": 16,
    "start_time": "2021-08-29T02:11:29.926Z"
   },
   {
    "duration": 400,
    "start_time": "2021-08-29T02:11:40.670Z"
   },
   {
    "duration": 6,
    "start_time": "2021-08-29T02:13:20.154Z"
   },
   {
    "duration": 8,
    "start_time": "2021-08-29T02:13:24.374Z"
   },
   {
    "duration": 9,
    "start_time": "2021-08-29T02:14:18.198Z"
   },
   {
    "duration": 8,
    "start_time": "2021-08-29T02:14:24.844Z"
   },
   {
    "duration": 8,
    "start_time": "2021-08-29T02:14:33.581Z"
   },
   {
    "duration": 8,
    "start_time": "2021-08-29T02:14:40.555Z"
   },
   {
    "duration": 10,
    "start_time": "2021-08-29T02:14:50.484Z"
   },
   {
    "duration": 10,
    "start_time": "2021-08-29T02:14:56.562Z"
   },
   {
    "duration": 12,
    "start_time": "2021-08-29T02:14:59.483Z"
   },
   {
    "duration": 157,
    "start_time": "2021-08-29T02:15:24.499Z"
   },
   {
    "duration": 138,
    "start_time": "2021-08-29T02:15:38.591Z"
   },
   {
    "duration": 13,
    "start_time": "2021-08-29T02:15:44.029Z"
   },
   {
    "duration": 8,
    "start_time": "2021-08-29T02:15:56.776Z"
   },
   {
    "duration": 9,
    "start_time": "2021-08-29T02:16:06.977Z"
   },
   {
    "duration": 10,
    "start_time": "2021-08-29T02:16:18.331Z"
   },
   {
    "duration": 13,
    "start_time": "2021-08-29T02:17:08.137Z"
   },
   {
    "duration": 409,
    "start_time": "2021-08-29T02:17:19.851Z"
   },
   {
    "duration": 16,
    "start_time": "2021-08-29T02:24:01.241Z"
   },
   {
    "duration": 404,
    "start_time": "2021-08-29T02:24:03.354Z"
   },
   {
    "duration": 8,
    "start_time": "2021-08-29T02:24:09.794Z"
   },
   {
    "duration": 7,
    "start_time": "2021-08-29T02:24:20.075Z"
   },
   {
    "duration": 14,
    "start_time": "2021-08-29T02:24:47.104Z"
   },
   {
    "duration": 931,
    "start_time": "2021-08-29T02:24:49.962Z"
   },
   {
    "duration": 13,
    "start_time": "2021-08-29T02:24:52.745Z"
   },
   {
    "duration": 12,
    "start_time": "2021-08-29T02:24:55.451Z"
   },
   {
    "duration": 12,
    "start_time": "2021-08-29T02:25:03.934Z"
   },
   {
    "duration": 444,
    "start_time": "2021-08-29T02:25:04.776Z"
   },
   {
    "duration": 13,
    "start_time": "2021-08-29T02:25:16.171Z"
   },
   {
    "duration": 12,
    "start_time": "2021-08-29T02:25:28.902Z"
   },
   {
    "duration": 534,
    "start_time": "2021-08-29T02:25:31.971Z"
   },
   {
    "duration": 14,
    "start_time": "2021-08-29T02:25:53.272Z"
   },
   {
    "duration": 399,
    "start_time": "2021-08-29T02:26:47.606Z"
   },
   {
    "duration": 13,
    "start_time": "2021-08-29T02:27:15.017Z"
   },
   {
    "duration": 19,
    "start_time": "2021-08-29T02:27:21.831Z"
   },
   {
    "duration": 417,
    "start_time": "2021-08-29T02:27:45.826Z"
   },
   {
    "duration": 14,
    "start_time": "2021-08-29T02:28:11.548Z"
   },
   {
    "duration": 19,
    "start_time": "2021-08-29T02:28:30.206Z"
   },
   {
    "duration": 411,
    "start_time": "2021-08-29T02:28:33.829Z"
   },
   {
    "duration": 14,
    "start_time": "2021-08-29T02:28:51.988Z"
   },
   {
    "duration": 17,
    "start_time": "2021-08-29T02:28:55.656Z"
   },
   {
    "duration": 16,
    "start_time": "2021-08-29T02:28:58.413Z"
   },
   {
    "duration": 487,
    "start_time": "2021-08-29T02:28:59.586Z"
   }
  ],
  "kernelspec": {
   "display_name": "Python 3",
   "language": "python",
   "name": "python3"
  },
  "language_info": {
   "codemirror_mode": {
    "name": "ipython",
    "version": 3
   },
   "file_extension": ".py",
   "mimetype": "text/x-python",
   "name": "python",
   "nbconvert_exporter": "python",
   "pygments_lexer": "ipython3",
   "version": "3.8.3"
  },
  "toc": {
   "base_numbering": 1,
   "nav_menu": {},
   "number_sections": true,
   "sideBar": true,
   "skip_h1_title": true,
   "title_cell": "Table of Contents",
   "title_sidebar": "Contents",
   "toc_cell": true,
   "toc_position": {
    "height": "calc(100% - 180px)",
    "left": "10px",
    "top": "150px",
    "width": "270.391px"
   },
   "toc_section_display": true,
   "toc_window_display": true
  }
 },
 "nbformat": 4,
 "nbformat_minor": 4
}
